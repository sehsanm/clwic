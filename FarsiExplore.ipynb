{
 "metadata": {
  "language_info": {
   "codemirror_mode": {
    "name": "ipython",
    "version": 3
   },
   "file_extension": ".py",
   "mimetype": "text/x-python",
   "name": "python",
   "nbconvert_exporter": "python",
   "pygments_lexer": "ipython3",
   "version": "3.6.7-final"
  },
  "orig_nbformat": 2,
  "kernelspec": {
   "name": "python3",
   "display_name": "Python 3.6.7 64-bit ('my_env': virtualenv)",
   "metadata": {
    "interpreter": {
     "hash": "dd85831f8187c006989fb35bc0a80648e13639337f79e232509ddb4a028c1723"
    }
   }
  }
 },
 "nbformat": 4,
 "nbformat_minor": 2,
 "cells": [
  {
   "cell_type": "code",
   "execution_count": null,
   "metadata": {},
   "outputs": [],
   "source": [
    "from  transformers  import XLMRobertaModel, AutoTokenizer\n",
    "\n",
    "\n",
    "def  collect_vectors(corpus_file, words , model , tokenizer , max_found = 200): \n",
    "    dico = {}\n",
    "    with open(corpus_file, 'r' , encoding='utf8') as f: \n",
    "        found = 0 \n",
    "        for i, line in enumerate(f):\n",
    "\n",
    "\n",
    "            tokens = tokenizer(line)\n",
    "            lst = tokenizer.convert_ids_to_tokens(tokens['input_ids']) \n",
    "            #do not pass it to model if none of the words appear in the list\n",
    "            in_list = False\n",
    "            for ind , item in enumerate(lst): \n",
    "                if item == '<s>' or item == '</s>':\n",
    "                    continue \n",
    "                else: \n",
    "                    item = item.replace('_' , '') \n",
    "                    if item in words: \n",
    "                        in_list = True \n",
    "                        break \n",
    "            if not in_list\n",
    "                continue \n",
    "            #Pass it to Model \n",
    "            input_ids = torch.tensor(tokens['input_ids']).unsqueeze(0)  \n",
    "            outputs = model(input_ids)\n",
    "            #Build the Vectors\n",
    "            for ind , item in enumerate(lst): \n",
    "                if item == '<s>' or item == '</s>':\n",
    "                    continue \n",
    "                else: \n",
    "                    item = item.replace('_' , '') \n",
    "                    if item in words: \n",
    "                        found += 1\n",
    "                        if not item in dico:\n",
    "                            item[dico] = []  \n",
    "                        dico[item] = dico[item].append(outputs[0][0, ind , : ]) \n",
    "                if found > max_found \n",
    "                    break \n",
    "        return dico  \n",
    "tokenizer = AutoTokenizer.from_pretrained('xlm-roberta-base')\n",
    "model = XLMRobertaModel.from_pretrained('xlm-roberta-base')\n",
    "all_vectors = collect_vectors('../data/common/wiki.txt' , ['شیر'] , tokenizer, model)\n"
   ]
  },
  {
   "cell_type": "code",
   "execution_count": null,
   "metadata": {},
   "outputs": [],
   "source": [
    "from sklearn.decomposition import PCA\n",
    "import numpy as np \n",
    "import matplotlib.pyplot as plt\n",
    "\n",
    "pca = PCA(n_components=2)\n",
    "total_vectors = 0\n",
    "dim = 0 \n",
    "for key, value in all_vectors: \n",
    "    total_vectors += len(value)\n",
    "    if len(value) > 0:\n",
    "        dim = value[0].shape[0]\n",
    "\n",
    "x = np.zeros((total_vectors, dim))\n",
    "x_2d = pca.fit_transform(x)\n",
    "\n",
    "plt.plot(x_2d)\n",
    "plt.show()\n"
   ]
  }
 ]
}