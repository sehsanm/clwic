{
 "cells": [
  {
   "cell_type": "code",
   "execution_count": 2,
   "metadata": {},
   "outputs": [],
   "source": [
    "with open('../data/common/en-678-xlmroberta.vec' , 'r' , encoding='utf8') as inp: \n",
    "  with open('../data/common/en-768-xlmroberta.vec' , 'w' , encoding='utf8') as out : \n",
    "    \n",
    "    out.write(inp.readline().strip()  + '\\n')\n",
    "    out.write(inp.readline().strip() + ' ' + inp.readline().strip() + '\\n') \n",
    "    l = inp.readline().strip()\n",
    "    while l: \n",
    "      out.write(l + '\\n') \n",
    "      l = inp.readline().strip() \n",
    "\n"
   ]
  },
  {
   "cell_type": "code",
   "execution_count": null,
   "metadata": {},
   "outputs": [
    {
     "name": "stdout",
     "output_type": "stream",
     "text": [
      "['466550', '768']\n"
     ]
    }
   ],
   "source": [
    "from evaluation.model import TextModel\n",
    "\n",
    "model =  TextModel('../data/common/fa-768-xlmroberta.vec' )\n",
    "\n",
    "\n"
   ]
  },
  {
   "cell_type": "code",
   "execution_count": 3,
   "metadata": {},
   "outputs": [
    {
     "name": "stdout",
     "output_type": "stream",
     "text": [
      "30072  Analogy entries loaded from  ../data/test/analogy_farsi.csv\n"
     ]
    }
   ],
   "source": [
    "import evaluation.evaluation as ev\n",
    "\n",
    "analogy_data = ev.load_analogy('../data/test/analogy_farsi.csv')\n",
    "print(ev.run_analogy(model, analogy_data))"
   ]
  },
  {
   "cell_type": "code",
   "execution_count": null,
   "metadata": {},
   "outputs": [],
   "source": []
  }
 ],
 "metadata": {
  "kernelspec": {
   "display_name": "Python 3",
   "language": "python",
   "name": "python3"
  },
  "language_info": {
   "codemirror_mode": {
    "name": "ipython",
    "version": 3
   },
   "file_extension": ".py",
   "mimetype": "text/x-python",
   "name": "python",
   "nbconvert_exporter": "python",
   "pygments_lexer": "ipython3",
   "version": "3.6.10"
  }
 },
 "nbformat": 4,
 "nbformat_minor": 4
}
