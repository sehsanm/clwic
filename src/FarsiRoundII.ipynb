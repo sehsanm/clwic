{
 "cells": [
  {
   "cell_type": "code",
   "execution_count": null,
   "metadata": {},
   "outputs": [],
   "source": [
    "from  transformers  import XLMRobertaModel, AutoTokenizer\n",
    "tokenizer = AutoTokenizer.from_pretrained('xlm-roberta-base')\n",
    "model = XLMRobertaModel.from_pretrained('xlm-roberta-base')\n",
    "print('Model and Tokenizer Loaded.')"
   ]
  },
  {
   "cell_type": "code",
   "execution_count": null,
   "metadata": {},
   "outputs": [],
   "source": [
    "import main as m\n",
    "def build_most_freq_tokens(corpus_file ,  token_count): \n",
    "    dico = {}\n",
    "    total_tokens = 0 \n",
    "    with open(corpus_file, 'r' , encoding='utf8') as f: \n",
    "        for i, line in enumerate(f):\n",
    "            tokens = list(filter(None, re.split(';|\\,|\\s|\\.|\\?|\\!|\\؟' , line.strip())))\n",
    "            for token in tokens: \n",
    "                if token in dico:\n",
    "                    dico[token] += 1 \n",
    "                else: \n",
    "                    dico[token] = 1 \n",
    "                total_tokens += 1 \n",
    "    srt = sorted(dico.items() , key= lambda i: i[1] , reverse=True) \n",
    "    ret = []\n",
    "    selected_tokens = 0 \n",
    "    for i in range(token_count):\n",
    "        selected_tokens += srt[i][1] \n",
    "        ret.append(srt[i][0])\n",
    "    print ('Total token {}  we selected {}  which is {} percent'.format(total_tokens, selected_tokens,  selected_tokens / total_tokens * 100))\n",
    "    return ret \n",
    "m.extract_dictionary(build_most_freq_tokens('../data/common/blogs-10M.txt' ,  30000) , '../data/common/fa-top.txt') \n",
    "m.extract_dictionary(build_most_freq_tokens('../data/common/wiki-en-30K.txt' ,  30000) , '../data/common/en-top.txt') \n"
   ]
  },
  {
   "cell_type": "code",
   "execution_count": null,
   "metadata": {},
   "outputs": [],
   "source": [
    "import numpy as np \n",
    "\n",
    "def create_mean_vectors(top_word_file , corpus_file , output_file , model , tokenizer , line_count = 10000 ):\n",
    "    dico = {}\n",
    "    dico_count = {} \n",
    "    with open(top_word_file, 'r' , encoding='utf8') as f: \n",
    "        for i, line in enumerate(f):\n",
    "            dico_count[line.strip()] =  0\n",
    "            dico[line.strip()] = np.zeros([768])\n",
    "\n",
    "\n",
    "    with open(corpus_file, 'r' , encoding='utf8') as f: \n",
    "        found = 0 \n",
    "        not_found = 0 \n",
    "        for i, line in enumerate(f):\n",
    "            if i > line_count:\n",
    "                break\n",
    "\n",
    "            tokens = tokenizer(line)\n",
    "            lst = tokenizer.convert_ids_to_tokens(tokens['input_ids']) \n",
    "            \n",
    "            input_ids = torch.tensor(tokens['input_ids']).unsqueeze(0)  \n",
    "            outputs = model(input_ids)\n",
    "\n",
    "            #print ('Line:',  line )\n",
    "            #print('Tokens:' , lst)\n",
    "\n",
    "            for ind , item in enumerate(lst): \n",
    "                if item == '<s>' or item == '</s>':\n",
    "                    continue \n",
    "                else: \n",
    "                    item = item.replace('▁' , '') \n",
    "                    #print(item)\n",
    "\n",
    "                    if item in dico_count: \n",
    "                        found += 1 \n",
    "                        dico_count[item] += 1 \n",
    "                        dico[item] += outputs[0][0, ind , : ].detach().numpy() \n",
    "                    else:\n",
    "                        not_found += 1 \n",
    "            if i % 100 == 1:\n",
    "                print('Found {} not found {}  Success Rate: {}'.format(found, not_found ,  found / (found + not_found)))\n",
    "\n",
    "    non_zero = 0 \n",
    "    for t, c in dico_count.items():\n",
    "        if c > 0: \n",
    "            non_zero += 1 \n",
    "    with open(output_file , 'w' , encoding='utf8') as out: \n",
    "        out.write(str(non_zero) +  ' ' + str(768) + '\\n') \n",
    "        for token in dico: \n",
    "            if dico_count[token] > 0:\n",
    "                out.write(token + ' ')\n",
    "                for x in (dico[token] / dico_count[token]).tolist(): \n",
    "                    out.write('{:.4f} '.format(x)) \n",
    "                out.write('\\n') \n",
    "    \n",
    "\n",
    "\n",
    "\n",
    "create_mean_vectors('../data/common/fa-top.txt' , '../data/common/blogs-100K.txt' , '../data/common/fa.vec' , model , tokenizer , 5)"
   ]
  },
  {
   "cell_type": "code",
   "execution_count": null,
   "metadata": {},
   "outputs": [],
   "source": []
  },
  {
   "cell_type": "code",
   "execution_count": null,
   "metadata": {},
   "outputs": [],
   "source": []
  },
  {
   "cell_type": "code",
   "execution_count": null,
   "metadata": {},
   "outputs": [],
   "source": []
  },
  {
   "cell_type": "code",
   "execution_count": null,
   "metadata": {},
   "outputs": [],
   "source": []
  },
  {
   "cell_type": "code",
   "execution_count": null,
   "metadata": {},
   "outputs": [],
   "source": []
  },
  {
   "cell_type": "code",
   "execution_count": null,
   "metadata": {},
   "outputs": [],
   "source": []
  },
  {
   "cell_type": "code",
   "execution_count": null,
   "metadata": {},
   "outputs": [],
   "source": []
  },
  {
   "cell_type": "code",
   "execution_count": null,
   "metadata": {},
   "outputs": [],
   "source": []
  },
  {
   "cell_type": "code",
   "execution_count": null,
   "metadata": {},
   "outputs": [],
   "source": []
  },
  {
   "cell_type": "code",
   "execution_count": null,
   "metadata": {},
   "outputs": [],
   "source": []
  },
  {
   "cell_type": "code",
   "execution_count": null,
   "metadata": {},
   "outputs": [],
   "source": []
  },
  {
   "cell_type": "code",
   "execution_count": null,
   "metadata": {},
   "outputs": [],
   "source": []
  },
  {
   "cell_type": "code",
   "execution_count": null,
   "metadata": {},
   "outputs": [],
   "source": []
  },
  {
   "cell_type": "code",
   "execution_count": null,
   "metadata": {},
   "outputs": [],
   "source": []
  },
  {
   "cell_type": "code",
   "execution_count": null,
   "metadata": {},
   "outputs": [],
   "source": []
  }
 ],
 "metadata": {
  "kernelspec": {
   "display_name": "Python 3",
   "language": "python",
   "name": "python3"
  },
  "language_info": {
   "codemirror_mode": {
    "name": "ipython",
    "version": 3
   },
   "file_extension": ".py",
   "mimetype": "text/x-python",
   "name": "python",
   "nbconvert_exporter": "python",
   "pygments_lexer": "ipython3",
   "version": "3.8.3"
  }
 },
 "nbformat": 4,
 "nbformat_minor": 4
}
