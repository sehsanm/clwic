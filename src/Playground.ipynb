{
 "cells": [
  {
   "cell_type": "code",
   "execution_count": null,
   "metadata": {},
   "outputs": [],
   "source": [
    "with open('../data/common/en-678-xlmroberta.vec' , 'r' , encoding='utf8') as inp: \n",
    "  with open('../data/common/en-768-xlmroberta.vec' , 'w' , encoding='utf8') as out : \n",
    "    \n",
    "    out.write(inp.readline().strip()  + '\\n')\n",
    "    out.write(inp.readline().strip() + ' ' + inp.readline().strip() + '\\n') \n",
    "    l = inp.readline().strip()\n",
    "    while l: \n",
    "      out.write(l + '\\n') \n",
    "      l = inp.readline().strip() \n",
    "\n"
   ]
  },
  {
   "cell_type": "code",
   "execution_count": null,
   "metadata": {},
   "outputs": [],
   "source": [
    "import main as m\n",
    "from  transformers  import XLMRobertaModel, AutoTokenizer\n",
    "#print(pipeline('sentiment-analysis')('I was expected to be amazed but no'))\n",
    "tokenizer = AutoTokenizer.from_pretrained('xlm-roberta-base')\n",
    "model = XLMRobertaModel.from_pretrained('xlm-roberta-base')\n",
    "\n",
    "# tokens = tokenizer.encode(\"Hello\") \n",
    "# print (tokenizer.decode(tokens))\n",
    "# input_ids = torch.tensor(tokens).unsqueeze(0)  # Batch size 1\n",
    "# print(input_ids.shape)\n",
    "# outputs = model(input_ids)\n",
    "# last_hidden_states = outputs[0]  # The last hidden-state is the first element of the output tuple    \n",
    "# print(last_hidden_states.shape)\n",
    "\n",
    "#build_embedding(model, tokenizer , 768 , 'data/common/en.txt' , 'data/common/en-678-xlmroberta.vec')\n",
    "m.build_embedding(model, tokenizer , 768 , '../data/common/fa.txt' , '../data/common/fa-768-xlmroberta.vec')\n"
   ]
  },
  {
   "cell_type": "code",
   "execution_count": null,
   "metadata": {},
   "outputs": [],
   "source": [
    "from evaluation.model import TextModel\n",
    "\n",
    "model =  TextModel('../data/common/fa-768-xlmroberta.vec' )\n",
    "\n",
    "\n"
   ]
  },
  {
   "cell_type": "code",
   "execution_count": null,
   "metadata": {},
   "outputs": [],
   "source": [
    "import evaluation.evaluation as ev\n",
    "\n",
    "analogy_data = ev.load_analogy('../data/test/analogy_farsi.csv')\n",
    "print(ev.run_analogy(model, analogy_data))"
   ]
  },
  {
   "cell_type": "code",
   "execution_count": null,
   "metadata": {},
   "outputs": [],
   "source": [
    "import torch\n",
    "from  transformers  import XLMRobertaModel, AutoTokenizer\n",
    "#print(pipeline('sentiment-analysis')('I was expected to be amazed but no'))\n",
    "tokenizer = AutoTokenizer.from_pretrained('xlm-roberta-base')\n",
    "model = XLMRobertaModel.from_pretrained('xlm-roberta-base')\n",
    "\n"
   ]
  },
  {
   "cell_type": "code",
   "execution_count": 1,
   "metadata": {},
   "outputs": [
    {
     "ename": "NameError",
     "evalue": "name 'tokenizer' is not defined",
     "output_type": "error",
     "traceback": [
      "\u001b[0;31m---------------------------------------------------------------------------\u001b[0m",
      "\u001b[0;31mNameError\u001b[0m                                 Traceback (most recent call last)",
      "\u001b[0;32m<ipython-input-1-5f8d605321c4>\u001b[0m in \u001b[0;36m<module>\u001b[0;34m\u001b[0m\n\u001b[1;32m      1\u001b[0m \u001b[0msentence\u001b[0m \u001b[0;34m=\u001b[0m \u001b[0;34m'ایران یکی از کشورهای مهمترین پریشان‌حالتر  پیش‌زمینه منطقه است '\u001b[0m\u001b[0;34m\u001b[0m\u001b[0;34m\u001b[0m\u001b[0m\n\u001b[1;32m      2\u001b[0m \u001b[0;34m\u001b[0m\u001b[0m\n\u001b[0;32m----> 3\u001b[0;31m \u001b[0mtokens\u001b[0m \u001b[0;34m=\u001b[0m \u001b[0mtokenizer\u001b[0m\u001b[0;34m(\u001b[0m\u001b[0msentence\u001b[0m\u001b[0;34m)\u001b[0m\u001b[0;34m\u001b[0m\u001b[0;34m\u001b[0m\u001b[0m\n\u001b[0m\u001b[1;32m      4\u001b[0m \u001b[0;34m\u001b[0m\u001b[0m\n\u001b[1;32m      5\u001b[0m \u001b[0mprint\u001b[0m\u001b[0;34m(\u001b[0m\u001b[0mtokens\u001b[0m\u001b[0;34m)\u001b[0m\u001b[0;34m\u001b[0m\u001b[0;34m\u001b[0m\u001b[0m\n",
      "\u001b[0;31mNameError\u001b[0m: name 'tokenizer' is not defined"
     ]
    }
   ],
   "source": [
    "sentence = 'ایران یکی از کشورهای مهمترین پریشان‌حالتر  پیش‌زمینه منطقه است '\n",
    "\n",
    "tokens = tokenizer(sentence)\n",
    "\n",
    "print(tokens)\n",
    "print(tokens['input_ids'])\n",
    "\n",
    "input_ids = torch.tensor(tokens['input_ids']).unsqueeze(0)  # Batch size 1\n",
    "outputs = model(input_ids)\n",
    "print('Output:' , outputs[0][0 , 1, :].shape)\n",
    "\n",
    "print(tokenizer.convert_ids_to_tokens(tokens['input_ids']))"
   ]
  },
  {
   "cell_type": "code",
   "execution_count": 24,
   "metadata": {
    "tags": []
   },
   "outputs": [
    {
     "ename": "TypeError",
     "evalue": "tuple indices must be integers or slices, not tuple",
     "output_type": "error",
     "traceback": [
      "\u001b[0;31m---------------------------------------------------------------------------\u001b[0m",
      "\u001b[0;31mTypeError\u001b[0m                                 Traceback (most recent call last)",
      "\u001b[0;32m<ipython-input-24-bfcd38cc8c5b>\u001b[0m in \u001b[0;36m<module>\u001b[0;34m\u001b[0m\n\u001b[1;32m     27\u001b[0m                     \u001b[0mfound\u001b[0m \u001b[0;34m+=\u001b[0m \u001b[0;36m1\u001b[0m\u001b[0;34m\u001b[0m\u001b[0;34m\u001b[0m\u001b[0m\n\u001b[1;32m     28\u001b[0m                     \u001b[0mdico_count\u001b[0m\u001b[0;34m[\u001b[0m\u001b[0mitem\u001b[0m\u001b[0;34m]\u001b[0m \u001b[0;34m+=\u001b[0m \u001b[0;36m1\u001b[0m\u001b[0;34m\u001b[0m\u001b[0;34m\u001b[0m\u001b[0m\n\u001b[0;32m---> 29\u001b[0;31m                     \u001b[0mdico\u001b[0m\u001b[0;34m[\u001b[0m\u001b[0mitem\u001b[0m\u001b[0;34m]\u001b[0m \u001b[0;34m=\u001b[0m \u001b[0mdico\u001b[0m\u001b[0;34m[\u001b[0m\u001b[0mitem\u001b[0m\u001b[0;34m]\u001b[0m\u001b[0;34m.\u001b[0m\u001b[0madd\u001b[0m\u001b[0;34m(\u001b[0m\u001b[0moutputs\u001b[0m\u001b[0;34m[\u001b[0m\u001b[0;36m0\u001b[0m\u001b[0;34m,\u001b[0m \u001b[0mind\u001b[0m \u001b[0;34m,\u001b[0m \u001b[0;34m:\u001b[0m \u001b[0;34m]\u001b[0m\u001b[0;34m)\u001b[0m\u001b[0;34m\u001b[0m\u001b[0;34m\u001b[0m\u001b[0m\n\u001b[0m\u001b[1;32m     30\u001b[0m                 \u001b[0;32melse\u001b[0m\u001b[0;34m:\u001b[0m\u001b[0;34m\u001b[0m\u001b[0;34m\u001b[0m\u001b[0m\n\u001b[1;32m     31\u001b[0m                     \u001b[0mnot_found\u001b[0m \u001b[0;34m+=\u001b[0m \u001b[0;36m1\u001b[0m\u001b[0;34m\u001b[0m\u001b[0;34m\u001b[0m\u001b[0m\n",
      "\u001b[0;31mTypeError\u001b[0m: tuple indices must be integers or slices, not tuple"
     ]
    }
   ],
   "source": [
    "\n",
    "dico = {}\n",
    "dico_count = {} \n",
    "with open('../data/common/fa-top.txt', 'r' , encoding='utf8') as f: \n",
    "    for i, line in enumerate(f):\n",
    "        dico_count[line.strip()] =  0\n",
    "        dico[line.strip()] = torch.zeros([768])\n",
    "\n",
    "\n",
    "with open('../data/common/wiki.txt', 'r' , encoding='utf8') as f: \n",
    "    found = 0 \n",
    "    not_found = 0 \n",
    "    for i, line in enumerate(f):\n",
    "        tokens = tokenizer(line)\n",
    "        lst = tokenizer.convert_ids_to_tokens(tokens['input_ids']) \n",
    "        \n",
    "        input_ids = torch.tensor(tokens['input_ids']).unsqueeze(0)  \n",
    "        outputs = model(input_ids)\n",
    "\n",
    "\n",
    "\n",
    "        for ind , item in enumerate(lst): \n",
    "            if item == '<s>' or item == '</s>':\n",
    "                continue \n",
    "            else: \n",
    "                item = item.replace('_' , '') \n",
    "                if item in dico_count: \n",
    "                    found += 1 \n",
    "                    dico_count[item] += 1 \n",
    "                    dico[item] = dico[item].add(outputs[0][0, ind , : ])  \n",
    "                else:\n",
    "                    not_found += 1 \n",
    "        if i % 1000 == 1:\n",
    "            print('Found {} not found {}  Success Rate: {}'.format(found, not_found ,  found / (found + not_found)))\n",
    "    \n",
    "            \n",
    "\n"
   ]
  },
  {
   "cell_type": "code",
   "execution_count": null,
   "metadata": {},
   "outputs": [],
   "source": [
    "s = 'اوت ساعت؟ , ,.. خرمهره  سلام '\n",
    "import re \n",
    "\n",
    "print(list(filter(None, re.split(';|\\,|\\s|\\.|\\?|\\!|\\؟' , s))))"
   ]
  },
  {
   "cell_type": "code",
   "execution_count": null,
   "metadata": {},
   "outputs": [],
   "source": [
    "import preprocess.util as util\n",
    "    \n",
    "lst = util.build_most_freq_tokens('../data/common/wiki.txt' , 50000)\n",
    "util.extract_dictionary(lst, '../data/common/fa-top.txt')"
   ]
  },
  {
   "cell_type": "code",
   "execution_count": null,
   "metadata": {},
   "outputs": [],
   "source": []
  }
 ],
 "metadata": {
  "kernelspec": {
   "display_name": "Python 3",
   "language": "python",
   "name": "python3"
  },
  "language_info": {
   "codemirror_mode": {
    "name": "ipython",
    "version": 3
   },
   "file_extension": ".py",
   "mimetype": "text/x-python",
   "name": "python",
   "nbconvert_exporter": "python",
   "pygments_lexer": "ipython3",
   "version": "3.6.10"
  }
 },
 "nbformat": 4,
 "nbformat_minor": 4
}
